{
 "cells": [
  {
   "cell_type": "markdown",
   "id": "4e708e9d-56a2-436f-a3ca-5558545538d7",
   "metadata": {},
   "source": [
    "JEE Dropout After Class 12"
   ]
  },
  {
   "cell_type": "markdown",
   "id": "cd97aef1-7ee5-48a4-bdd1-c8143a1a1759",
   "metadata": {},
   "source": [
    "Import Library"
   ]
  },
  {
   "cell_type": "code",
   "execution_count": 8,
   "id": "af878b16-79d6-44b8-be76-443b90181426",
   "metadata": {},
   "outputs": [],
   "source": [
    "import pandas as pd"
   ]
  },
  {
   "cell_type": "markdown",
   "id": "95abf542-b5cb-4aac-9398-2b214d8f721d",
   "metadata": {},
   "source": [
    "Data Load"
   ]
  },
  {
   "cell_type": "code",
   "execution_count": 11,
   "id": "fa99b072-a805-4a93-8823-f7c14dd1d31f",
   "metadata": {},
   "outputs": [],
   "source": [
    "jee = pd.read_csv(r'C:\\Users\\navee\\OneDrive\\Desktop\\HR ANALYTICS\\Profit Analysis\\JEE Dropout\\JEE_Dropout_After_Class_12.csv')"
   ]
  },
  {
   "cell_type": "markdown",
   "id": "33f10346-19ae-4290-897d-2fa583897c25",
   "metadata": {},
   "source": [
    "Data Info"
   ]
  },
  {
   "cell_type": "code",
   "execution_count": 16,
   "id": "333d2db0-916c-40b4-9235-354998cdbfd6",
   "metadata": {},
   "outputs": [
    {
     "data": {
      "text/html": [
       "<div>\n",
       "<style scoped>\n",
       "    .dataframe tbody tr th:only-of-type {\n",
       "        vertical-align: middle;\n",
       "    }\n",
       "\n",
       "    .dataframe tbody tr th {\n",
       "        vertical-align: top;\n",
       "    }\n",
       "\n",
       "    .dataframe thead th {\n",
       "        text-align: right;\n",
       "    }\n",
       "</style>\n",
       "<table border=\"1\" class=\"dataframe\">\n",
       "  <thead>\n",
       "    <tr style=\"text-align: right;\">\n",
       "      <th></th>\n",
       "      <th>jee_main_score</th>\n",
       "      <th>jee_advanced_score</th>\n",
       "      <th>mock_test_score_avg</th>\n",
       "      <th>school_board</th>\n",
       "      <th>class_12_percent</th>\n",
       "      <th>attempt_count</th>\n",
       "      <th>coaching_institute</th>\n",
       "      <th>daily_study_hours</th>\n",
       "      <th>family_income</th>\n",
       "      <th>parent_education</th>\n",
       "      <th>location_type</th>\n",
       "      <th>peer_pressure_level</th>\n",
       "      <th>mental_health_issues</th>\n",
       "      <th>admission_taken</th>\n",
       "      <th>dropout</th>\n",
       "    </tr>\n",
       "  </thead>\n",
       "  <tbody>\n",
       "    <tr>\n",
       "      <th>0</th>\n",
       "      <td>78.95</td>\n",
       "      <td>59.22</td>\n",
       "      <td>59.86</td>\n",
       "      <td>CBSE</td>\n",
       "      <td>70.09</td>\n",
       "      <td>1</td>\n",
       "      <td>FIITJEE</td>\n",
       "      <td>5.4</td>\n",
       "      <td>Low</td>\n",
       "      <td>Upto 10th</td>\n",
       "      <td>Urban</td>\n",
       "      <td>Low</td>\n",
       "      <td>No</td>\n",
       "      <td>No</td>\n",
       "      <td>1</td>\n",
       "    </tr>\n",
       "    <tr>\n",
       "      <th>1</th>\n",
       "      <td>70.06</td>\n",
       "      <td>58.75</td>\n",
       "      <td>64.33</td>\n",
       "      <td>State</td>\n",
       "      <td>78.00</td>\n",
       "      <td>1</td>\n",
       "      <td>FIITJEE</td>\n",
       "      <td>5.5</td>\n",
       "      <td>Mid</td>\n",
       "      <td>Upto 10th</td>\n",
       "      <td>Urban</td>\n",
       "      <td>Low</td>\n",
       "      <td>Yes</td>\n",
       "      <td>No</td>\n",
       "      <td>0</td>\n",
       "    </tr>\n",
       "    <tr>\n",
       "      <th>2</th>\n",
       "      <td>81.07</td>\n",
       "      <td>37.27</td>\n",
       "      <td>60.83</td>\n",
       "      <td>ICSE</td>\n",
       "      <td>64.36</td>\n",
       "      <td>1</td>\n",
       "      <td>FIITJEE</td>\n",
       "      <td>7.0</td>\n",
       "      <td>Low</td>\n",
       "      <td>PG</td>\n",
       "      <td>Semi-Urban</td>\n",
       "      <td>Medium</td>\n",
       "      <td>Yes</td>\n",
       "      <td>No</td>\n",
       "      <td>1</td>\n",
       "    </tr>\n",
       "    <tr>\n",
       "      <th>3</th>\n",
       "      <td>93.32</td>\n",
       "      <td>60.72</td>\n",
       "      <td>69.33</td>\n",
       "      <td>ICSE</td>\n",
       "      <td>73.21</td>\n",
       "      <td>1</td>\n",
       "      <td>FIITJEE</td>\n",
       "      <td>2.1</td>\n",
       "      <td>Low</td>\n",
       "      <td>12th</td>\n",
       "      <td>Semi-Urban</td>\n",
       "      <td>Medium</td>\n",
       "      <td>Yes</td>\n",
       "      <td>Yes</td>\n",
       "      <td>0</td>\n",
       "    </tr>\n",
       "    <tr>\n",
       "      <th>4</th>\n",
       "      <td>68.72</td>\n",
       "      <td>77.73</td>\n",
       "      <td>82.37</td>\n",
       "      <td>CBSE</td>\n",
       "      <td>89.02</td>\n",
       "      <td>1</td>\n",
       "      <td>Allen</td>\n",
       "      <td>6.3</td>\n",
       "      <td>Mid</td>\n",
       "      <td>Graduate</td>\n",
       "      <td>Semi-Urban</td>\n",
       "      <td>High</td>\n",
       "      <td>No</td>\n",
       "      <td>Yes</td>\n",
       "      <td>0</td>\n",
       "    </tr>\n",
       "  </tbody>\n",
       "</table>\n",
       "</div>"
      ],
      "text/plain": [
       "   jee_main_score  jee_advanced_score  mock_test_score_avg school_board  \\\n",
       "0           78.95               59.22                59.86         CBSE   \n",
       "1           70.06               58.75                64.33        State   \n",
       "2           81.07               37.27                60.83         ICSE   \n",
       "3           93.32               60.72                69.33         ICSE   \n",
       "4           68.72               77.73                82.37         CBSE   \n",
       "\n",
       "   class_12_percent  attempt_count coaching_institute  daily_study_hours  \\\n",
       "0             70.09              1            FIITJEE                5.4   \n",
       "1             78.00              1            FIITJEE                5.5   \n",
       "2             64.36              1            FIITJEE                7.0   \n",
       "3             73.21              1            FIITJEE                2.1   \n",
       "4             89.02              1              Allen                6.3   \n",
       "\n",
       "  family_income parent_education location_type peer_pressure_level  \\\n",
       "0           Low        Upto 10th         Urban                 Low   \n",
       "1           Mid        Upto 10th         Urban                 Low   \n",
       "2           Low               PG    Semi-Urban              Medium   \n",
       "3           Low             12th    Semi-Urban              Medium   \n",
       "4           Mid         Graduate    Semi-Urban                High   \n",
       "\n",
       "  mental_health_issues admission_taken  dropout  \n",
       "0                   No              No        1  \n",
       "1                  Yes              No        0  \n",
       "2                  Yes              No        1  \n",
       "3                  Yes             Yes        0  \n",
       "4                   No             Yes        0  "
      ]
     },
     "execution_count": 16,
     "metadata": {},
     "output_type": "execute_result"
    }
   ],
   "source": [
    "jee.head()"
   ]
  },
  {
   "cell_type": "code",
   "execution_count": 18,
   "id": "1d23f4c5-20e1-4d11-8f1d-59695fc65fd8",
   "metadata": {},
   "outputs": [
    {
     "data": {
      "text/plain": [
       "(5000, 15)"
      ]
     },
     "execution_count": 18,
     "metadata": {},
     "output_type": "execute_result"
    }
   ],
   "source": [
    "jee.shape"
   ]
  },
  {
   "cell_type": "code",
   "execution_count": 28,
   "id": "3b628837-aaca-4572-88c0-0d098d884f75",
   "metadata": {},
   "outputs": [
    {
     "name": "stdout",
     "output_type": "stream",
     "text": [
      "<class 'pandas.core.frame.DataFrame'>\n",
      "RangeIndex: 5000 entries, 0 to 4999\n",
      "Data columns (total 15 columns):\n",
      " #   Column                Non-Null Count  Dtype  \n",
      "---  ------                --------------  -----  \n",
      " 0   jee_main_score        5000 non-null   float64\n",
      " 1   jee_advanced_score    5000 non-null   float64\n",
      " 2   mock_test_score_avg   5000 non-null   float64\n",
      " 3   school_board          5000 non-null   object \n",
      " 4   class_12_percent      5000 non-null   float64\n",
      " 5   attempt_count         5000 non-null   int64  \n",
      " 6   coaching_institute    3791 non-null   object \n",
      " 7   daily_study_hours     5000 non-null   float64\n",
      " 8   family_income         5000 non-null   object \n",
      " 9   parent_education      5000 non-null   object \n",
      " 10  location_type         5000 non-null   object \n",
      " 11  peer_pressure_level   5000 non-null   object \n",
      " 12  mental_health_issues  5000 non-null   object \n",
      " 13  admission_taken       5000 non-null   object \n",
      " 14  dropout               5000 non-null   int64  \n",
      "dtypes: float64(5), int64(2), object(8)\n",
      "memory usage: 586.1+ KB\n"
     ]
    }
   ],
   "source": [
    "jee.info()"
   ]
  },
  {
   "cell_type": "code",
   "execution_count": 30,
   "id": "192e9876-0c7c-401a-9732-6a8ede95a2e8",
   "metadata": {},
   "outputs": [
    {
     "data": {
      "text/plain": [
       "['jee_main_score',\n",
       " 'jee_advanced_score',\n",
       " 'mock_test_score_avg',\n",
       " 'school_board',\n",
       " 'class_12_percent',\n",
       " 'attempt_count',\n",
       " 'coaching_institute',\n",
       " 'daily_study_hours',\n",
       " 'family_income',\n",
       " 'parent_education',\n",
       " 'location_type',\n",
       " 'peer_pressure_level',\n",
       " 'mental_health_issues',\n",
       " 'admission_taken',\n",
       " 'dropout']"
      ]
     },
     "execution_count": 30,
     "metadata": {},
     "output_type": "execute_result"
    }
   ],
   "source": [
    "jee.columns.tolist()"
   ]
  },
  {
   "cell_type": "markdown",
   "id": "fbfcdbc3-c640-4fcf-8ddf-fe622454cb3d",
   "metadata": {},
   "source": [
    "Data Cleaning"
   ]
  },
  {
   "cell_type": "code",
   "execution_count": 46,
   "id": "5a53ab9e-1b44-4479-bb27-1e512dec14f0",
   "metadata": {},
   "outputs": [
    {
     "data": {
      "text/plain": [
       "coaching_institute      1209\n",
       "jee_main_score             0\n",
       "jee_advanced_score         0\n",
       "mock_test_score_avg        0\n",
       "school_board               0\n",
       "class_12_percent           0\n",
       "attempt_count              0\n",
       "daily_study_hours          0\n",
       "family_income              0\n",
       "parent_education           0\n",
       "location_type              0\n",
       "peer_pressure_level        0\n",
       "mental_health_issues       0\n",
       "admission_taken            0\n",
       "dropout                    0\n",
       "dtype: int64"
      ]
     },
     "execution_count": 46,
     "metadata": {},
     "output_type": "execute_result"
    }
   ],
   "source": [
    "jee.isnull().sum().sort_values(ascending=False)"
   ]
  },
  {
   "cell_type": "code",
   "execution_count": 67,
   "id": "1f93398e-3bf7-4df6-86dc-bbbe3e093ea3",
   "metadata": {},
   "outputs": [],
   "source": [
    "jee['coaching_institute'] = jee['coaching_institute'].str.strip().str.lower()"
   ]
  },
  {
   "cell_type": "code",
   "execution_count": 96,
   "id": "b31e8412-00f4-4970-a393-cc7441f1e320",
   "metadata": {},
   "outputs": [],
   "source": [
    "jee['coaching_institute'] = jee['coaching_institute'].fillna('Unknown')"
   ]
  },
  {
   "cell_type": "code",
   "execution_count": 98,
   "id": "6463e476-dc00-424d-b24c-0d83fdf2edb6",
   "metadata": {},
   "outputs": [
    {
     "data": {
      "text/plain": [
       "0"
      ]
     },
     "execution_count": 98,
     "metadata": {},
     "output_type": "execute_result"
    }
   ],
   "source": [
    "jee.duplicated().sum()"
   ]
  },
  {
   "cell_type": "markdown",
   "id": "6ea5505c-2ad4-4a72-b4c4-efe49f0b3d8e",
   "metadata": {},
   "source": [
    "Export Csv"
   ]
  },
  {
   "cell_type": "code",
   "execution_count": 101,
   "id": "d68d5c15-3b67-441b-8ce7-5ef7f2962de0",
   "metadata": {},
   "outputs": [],
   "source": [
    "jee.to_csv(r'C:\\Users\\navee\\OneDrive\\Desktop\\HR ANALYTICS\\Profit Analysis\\JEE Dropout\\JEE_Cleaned_Final.csv', index=False)"
   ]
  },
  {
   "cell_type": "code",
   "execution_count": null,
   "id": "74a7a296-5d31-4a9a-a4d9-35afb04fff14",
   "metadata": {},
   "outputs": [],
   "source": []
  }
 ],
 "metadata": {
  "kernelspec": {
   "display_name": "Python [conda env:base] *",
   "language": "python",
   "name": "conda-base-py"
  },
  "language_info": {
   "codemirror_mode": {
    "name": "ipython",
    "version": 3
   },
   "file_extension": ".py",
   "mimetype": "text/x-python",
   "name": "python",
   "nbconvert_exporter": "python",
   "pygments_lexer": "ipython3",
   "version": "3.12.7"
  }
 },
 "nbformat": 4,
 "nbformat_minor": 5
}
